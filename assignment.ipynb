{
 "cells": [
  {
   "attachments": {},
   "cell_type": "markdown",
   "metadata": {},
   "source": [
    "Question 1 : Leader in the Array\n",
    "Given a unsorted array, kindly find the leader in array . An element is called the leader of an \n",
    "array if there is no element greater than it on the right side.\n",
    "#Test case\n",
    "int arr[] = {7, 10, 4, 10, 6, 5, 2}, n = 7;\n",
    "10 6 5 2\n",
    "Constraint\n",
    "Please submit the optimize approach in 0(n)"
   ]
  },
  {
   "cell_type": "code",
   "execution_count": 1,
   "metadata": {},
   "outputs": [],
   "source": [
    "#solution"
   ]
  },
  {
   "cell_type": "code",
   "execution_count": 12,
   "metadata": {},
   "outputs": [
    {
     "name": "stdout",
     "output_type": "stream",
     "text": [
      "{10, 2, 5, 6}\n"
     ]
    }
   ],
   "source": [
    "def leaders_arr(arr):\n",
    "    leaders = []\n",
    "    max = float('-inf')\n",
    "    for i in range(len(arr) - 1, -1, -1):\n",
    "        if arr[i] >= max:\n",
    "            leaders.append(arr[i])\n",
    "            max = arr[i]\n",
    "    leaders.reverse()\n",
    "    leaders = set(leaders)\n",
    "    return leaders\n",
    "\n",
    "arr = [7,10,4,10,6,5,2]\n",
    "print(leaders_arr(arr))"
   ]
  },
  {
   "attachments": {},
   "cell_type": "markdown",
   "metadata": {},
   "source": [
    "Question 2 :Best Time to Buy and Sell Stock\n",
    "You are given an array prices where prices[i] is the price of a given stock on the ith day.\n",
    "You want to maximize your profit by choosing a single day to buy one stock and choosing a \n",
    "different day in the future to sell that stock.\n",
    "Return the maximum profit you can achieve from this transaction. If you cannot achieve any \n",
    "profit, return 0.\n",
    "Input: prices = [7,1,5,3,6,4]\n",
    "Output: 5"
   ]
  },
  {
   "cell_type": "code",
   "execution_count": 23,
   "metadata": {},
   "outputs": [
    {
     "name": "stdout",
     "output_type": "stream",
     "text": [
      "5\n"
     ]
    }
   ],
   "source": [
    "def profit_price(prices):\n",
    "    max_profit = 0\n",
    "    min_price = float('inf')\n",
    "\n",
    "    for price in prices:\n",
    "        min_price = min(min_price, price)  \n",
    "        max_profit = max(max_profit, price - min_price)\n",
    "    return max_profit\n",
    "\n",
    "prices = [7, 1, 5, 3, 6, 4]\n",
    "print(profit_price(prices))\n"
   ]
  },
  {
   "attachments": {},
   "cell_type": "markdown",
   "metadata": {},
   "source": [
    "The XOR total of an array is defined as the bitwise XOR of all its elements, or 0 if the array is \n",
    "empty.\n",
    "For example, the XOR total of the array [2,5,6] is 2 XOR 5 XOR 6 = 1.\n",
    "Given an array nums, return the sum of all XOR totals for every subset of nums.\n",
    "Note: Subsets with the same elements should be counted multiple times.\n",
    "An array a is a subset of an array b if a can be obtained from b by deleting some (possibly zero) \n",
    "elements of b."
   ]
  },
  {
   "cell_type": "code",
   "execution_count": 26,
   "metadata": {},
   "outputs": [
    {
     "name": "stdout",
     "output_type": "stream",
     "text": [
      "Sum of XOR totals for every subset: 28\n"
     ]
    }
   ],
   "source": [
    "def subsetXORSum(nums):\n",
    "    xor_sum = 0\n",
    "    n = len(nums)\n",
    "\n",
    "    for num in nums:\n",
    "        xor_sum |= num\n",
    "\n",
    "    xor_sum *= 2 ** (n - 1)\n",
    "\n",
    "    return xor_sum\n",
    "\n",
    "arr = [5, 1, 6]\n",
    "xor_sum = subsetXORSum(arr)\n",
    "print(\"Sum of XOR totals for every subset:\", xor_sum)\n"
   ]
  },
  {
   "cell_type": "code",
   "execution_count": null,
   "metadata": {},
   "outputs": [],
   "source": []
  }
 ],
 "metadata": {
  "kernelspec": {
   "display_name": "Python 3",
   "language": "python",
   "name": "python3"
  },
  "language_info": {
   "codemirror_mode": {
    "name": "ipython",
    "version": 3
   },
   "file_extension": ".py",
   "mimetype": "text/x-python",
   "name": "python",
   "nbconvert_exporter": "python",
   "pygments_lexer": "ipython3",
   "version": "3.11.3"
  },
  "orig_nbformat": 4
 },
 "nbformat": 4,
 "nbformat_minor": 2
}
